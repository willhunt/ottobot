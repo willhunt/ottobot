{
 "cells": [
  {
   "cell_type": "markdown",
   "metadata": {},
   "source": [
    "# Wheel speed check\n",
    "Check wheel speed calculated using encoders with laser tachometer"
   ]
  },
  {
   "cell_type": "code",
   "execution_count": 4,
   "metadata": {},
   "outputs": [],
   "source": [
    "import pandas as pd\n",
    "import numpy as np"
   ]
  },
  {
   "cell_type": "code",
   "execution_count": 7,
   "metadata": {},
   "outputs": [],
   "source": [
    "tick_per_rev = 2\n",
    "\n",
    "raw_tacho = np.array([192, 172.5, 152])\n",
    "raw_encoders = np.array([10.011, 8.985, 8.008])"
   ]
  },
  {
   "cell_type": "code",
   "execution_count": 9,
   "metadata": {},
   "outputs": [
    {
     "data": {
      "text/html": [
       "<div>\n",
       "<style scoped>\n",
       "    .dataframe tbody tr th:only-of-type {\n",
       "        vertical-align: middle;\n",
       "    }\n",
       "\n",
       "    .dataframe tbody tr th {\n",
       "        vertical-align: top;\n",
       "    }\n",
       "\n",
       "    .dataframe thead th {\n",
       "        text-align: right;\n",
       "    }\n",
       "</style>\n",
       "<table border=\"1\" class=\"dataframe\">\n",
       "  <thead>\n",
       "    <tr style=\"text-align: right;\">\n",
       "      <th></th>\n",
       "      <th>Tacho (rpm)</th>\n",
       "      <th>Tacho (rad/s)</th>\n",
       "      <th>Encoders (rad/s)</th>\n",
       "      <th>Error (%)</th>\n",
       "    </tr>\n",
       "  </thead>\n",
       "  <tbody>\n",
       "    <tr>\n",
       "      <th>0</th>\n",
       "      <td>96.00</td>\n",
       "      <td>10.053096</td>\n",
       "      <td>10.011</td>\n",
       "      <td>0.418742</td>\n",
       "    </tr>\n",
       "    <tr>\n",
       "      <th>1</th>\n",
       "      <td>86.25</td>\n",
       "      <td>9.032079</td>\n",
       "      <td>8.985</td>\n",
       "      <td>0.521241</td>\n",
       "    </tr>\n",
       "    <tr>\n",
       "      <th>2</th>\n",
       "      <td>76.00</td>\n",
       "      <td>7.958701</td>\n",
       "      <td>8.008</td>\n",
       "      <td>0.619430</td>\n",
       "    </tr>\n",
       "  </tbody>\n",
       "</table>\n",
       "</div>"
      ],
      "text/plain": [
       "   Tacho (rpm)  Tacho (rad/s)  Encoders (rad/s)  Error (%)\n",
       "0        96.00      10.053096            10.011   0.418742\n",
       "1        86.25       9.032079             8.985   0.521241\n",
       "2        76.00       7.958701             8.008   0.619430"
      ]
     },
     "execution_count": 9,
     "metadata": {},
     "output_type": "execute_result"
    }
   ],
   "source": [
    "\n",
    "data = {\n",
    "    \"Tacho (rpm)\": raw_tacho / tick_per_rev,\n",
    "    \"Tacho (rad/s)\": raw_tacho / tick_per_rev * 2 * np.pi / 60,\n",
    "    \"Encoders (rad/s)\": raw_encoders\n",
    "}\n",
    "data[\"Error (%)\"] = abs(data[\"Tacho (rad/s)\"] - data[\"Encoders (rad/s)\"]) / data[\"Tacho (rad/s)\"] * 100\n",
    "results = pd.DataFrame(data=data)\n",
    "results"
   ]
  },
  {
   "cell_type": "code",
   "execution_count": null,
   "metadata": {},
   "outputs": [],
   "source": []
  }
 ],
 "metadata": {
  "kernelspec": {
   "display_name": "local-venv",
   "language": "python",
   "name": "local-venv"
  },
  "language_info": {
   "codemirror_mode": {
    "name": "ipython",
    "version": 3
   },
   "file_extension": ".py",
   "mimetype": "text/x-python",
   "name": "python",
   "nbconvert_exporter": "python",
   "pygments_lexer": "ipython3",
   "version": "3.6.9"
  }
 },
 "nbformat": 4,
 "nbformat_minor": 2
}
